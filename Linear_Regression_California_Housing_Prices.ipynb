{
 "cells": [
  {
   "cell_type": "code",
   "execution_count": 1,
   "metadata": {},
   "outputs": [],
   "source": [
    "import numpy as np #numerical analysis/linear algebra analysis\n",
    "import pandas as pd #Data analysis\n",
    "import matplotlib.pyplot as plt #Data visualisation"
   ]
  },
  {
   "cell_type": "code",
   "execution_count": 2,
   "metadata": {},
   "outputs": [],
   "source": [
    "Htrain = pd.read_csv(\"housing_train.csv\")"
   ]
  },
  {
   "cell_type": "code",
   "execution_count": 3,
   "metadata": {},
   "outputs": [
    {
     "data": {
      "text/html": [
       "<div>\n",
       "<style scoped>\n",
       "    .dataframe tbody tr th:only-of-type {\n",
       "        vertical-align: middle;\n",
       "    }\n",
       "\n",
       "    .dataframe tbody tr th {\n",
       "        vertical-align: top;\n",
       "    }\n",
       "\n",
       "    .dataframe thead th {\n",
       "        text-align: right;\n",
       "    }\n",
       "</style>\n",
       "<table border=\"1\" class=\"dataframe\">\n",
       "  <thead>\n",
       "    <tr style=\"text-align: right;\">\n",
       "      <th></th>\n",
       "      <th>longitude</th>\n",
       "      <th>latitude</th>\n",
       "      <th>housing_median_age</th>\n",
       "      <th>total_rooms</th>\n",
       "      <th>total_bedrooms</th>\n",
       "      <th>population</th>\n",
       "      <th>households</th>\n",
       "      <th>median_income</th>\n",
       "      <th>median_house_value</th>\n",
       "    </tr>\n",
       "  </thead>\n",
       "  <tbody>\n",
       "    <tr>\n",
       "      <th>0</th>\n",
       "      <td>1.267645</td>\n",
       "      <td>-1.367976</td>\n",
       "      <td>0.346478</td>\n",
       "      <td>0.224718</td>\n",
       "      <td>0.214986</td>\n",
       "      <td>0.772251</td>\n",
       "      <td>0.322924</td>\n",
       "      <td>-0.321654</td>\n",
       "      <td>103000.0</td>\n",
       "    </tr>\n",
       "    <tr>\n",
       "      <th>1</th>\n",
       "      <td>0.703627</td>\n",
       "      <td>-0.871699</td>\n",
       "      <td>1.617807</td>\n",
       "      <td>0.342065</td>\n",
       "      <td>0.596500</td>\n",
       "      <td>-0.098440</td>\n",
       "      <td>0.670799</td>\n",
       "      <td>-0.030620</td>\n",
       "      <td>382100.0</td>\n",
       "    </tr>\n",
       "    <tr>\n",
       "      <th>2</th>\n",
       "      <td>-0.454356</td>\n",
       "      <td>-0.455012</td>\n",
       "      <td>-1.957806</td>\n",
       "      <td>-0.338639</td>\n",
       "      <td>-0.490815</td>\n",
       "      <td>-0.450778</td>\n",
       "      <td>-0.427755</td>\n",
       "      <td>0.150349</td>\n",
       "      <td>172600.0</td>\n",
       "    </tr>\n",
       "    <tr>\n",
       "      <th>3</th>\n",
       "      <td>1.227714</td>\n",
       "      <td>-1.377340</td>\n",
       "      <td>0.584852</td>\n",
       "      <td>-0.556832</td>\n",
       "      <td>-0.404974</td>\n",
       "      <td>-0.006602</td>\n",
       "      <td>-0.378059</td>\n",
       "      <td>-1.014947</td>\n",
       "      <td>93400.0</td>\n",
       "    </tr>\n",
       "    <tr>\n",
       "      <th>4</th>\n",
       "      <td>-0.114948</td>\n",
       "      <td>0.537543</td>\n",
       "      <td>1.141059</td>\n",
       "      <td>-0.116322</td>\n",
       "      <td>-0.252369</td>\n",
       "      <td>-0.486983</td>\n",
       "      <td>-0.312669</td>\n",
       "      <td>-0.166583</td>\n",
       "      <td>96500.0</td>\n",
       "    </tr>\n",
       "  </tbody>\n",
       "</table>\n",
       "</div>"
      ],
      "text/plain": [
       "   longitude  latitude  housing_median_age  total_rooms  total_bedrooms  \\\n",
       "0   1.267645 -1.367976            0.346478     0.224718        0.214986   \n",
       "1   0.703627 -0.871699            1.617807     0.342065        0.596500   \n",
       "2  -0.454356 -0.455012           -1.957806    -0.338639       -0.490815   \n",
       "3   1.227714 -1.377340            0.584852    -0.556832       -0.404974   \n",
       "4  -0.114948  0.537543            1.141059    -0.116322       -0.252369   \n",
       "\n",
       "   population  households  median_income  median_house_value  \n",
       "0    0.772251    0.322924      -0.321654            103000.0  \n",
       "1   -0.098440    0.670799      -0.030620            382100.0  \n",
       "2   -0.450778   -0.427755       0.150349            172600.0  \n",
       "3   -0.006602   -0.378059      -1.014947             93400.0  \n",
       "4   -0.486983   -0.312669      -0.166583             96500.0  "
      ]
     },
     "execution_count": 3,
     "metadata": {},
     "output_type": "execute_result"
    }
   ],
   "source": [
    "Htrain.head() #Preview of the dataset \n",
    "#Data is scaled or Normalized."
   ]
  },
  {
   "cell_type": "code",
   "execution_count": 4,
   "metadata": {},
   "outputs": [
    {
     "data": {
      "text/plain": [
       "(16512, 9)"
      ]
     },
     "execution_count": 4,
     "metadata": {},
     "output_type": "execute_result"
    }
   ],
   "source": [
    "Htrain.shape #Dimension of the dataset (nrows, ncolumn)"
   ]
  },
  {
   "cell_type": "code",
   "execution_count": 5,
   "metadata": {},
   "outputs": [
    {
     "data": {
      "text/plain": [
       "longitude             0\n",
       "latitude              0\n",
       "housing_median_age    0\n",
       "total_rooms           0\n",
       "total_bedrooms        0\n",
       "population            0\n",
       "households            0\n",
       "median_income         0\n",
       "median_house_value    0\n",
       "dtype: int64"
      ]
     },
     "execution_count": 5,
     "metadata": {},
     "output_type": "execute_result"
    }
   ],
   "source": [
    "Htrain.isnull().sum() #number of nulss present in the databset"
   ]
  },
  {
   "cell_type": "code",
   "execution_count": 6,
   "metadata": {},
   "outputs": [
    {
     "data": {
      "text/html": [
       "<div>\n",
       "<style scoped>\n",
       "    .dataframe tbody tr th:only-of-type {\n",
       "        vertical-align: middle;\n",
       "    }\n",
       "\n",
       "    .dataframe tbody tr th {\n",
       "        vertical-align: top;\n",
       "    }\n",
       "\n",
       "    .dataframe thead th {\n",
       "        text-align: right;\n",
       "    }\n",
       "</style>\n",
       "<table border=\"1\" class=\"dataframe\">\n",
       "  <thead>\n",
       "    <tr style=\"text-align: right;\">\n",
       "      <th></th>\n",
       "      <th>longitude</th>\n",
       "      <th>latitude</th>\n",
       "      <th>housing_median_age</th>\n",
       "      <th>total_rooms</th>\n",
       "      <th>total_bedrooms</th>\n",
       "      <th>population</th>\n",
       "      <th>households</th>\n",
       "      <th>median_income</th>\n",
       "      <th>median_house_value</th>\n",
       "    </tr>\n",
       "  </thead>\n",
       "  <tbody>\n",
       "    <tr>\n",
       "      <th>count</th>\n",
       "      <td>16512.000000</td>\n",
       "      <td>16512.000000</td>\n",
       "      <td>16512.000000</td>\n",
       "      <td>16512.000000</td>\n",
       "      <td>16512.000000</td>\n",
       "      <td>16512.000000</td>\n",
       "      <td>16512.000000</td>\n",
       "      <td>16512.000000</td>\n",
       "      <td>16512.000000</td>\n",
       "    </tr>\n",
       "    <tr>\n",
       "      <th>mean</th>\n",
       "      <td>-0.006282</td>\n",
       "      <td>0.005285</td>\n",
       "      <td>-0.002479</td>\n",
       "      <td>0.002861</td>\n",
       "      <td>0.003953</td>\n",
       "      <td>0.000862</td>\n",
       "      <td>0.001170</td>\n",
       "      <td>0.005308</td>\n",
       "      <td>207194.693738</td>\n",
       "    </tr>\n",
       "    <tr>\n",
       "      <th>std</th>\n",
       "      <td>1.001083</td>\n",
       "      <td>1.000358</td>\n",
       "      <td>1.001370</td>\n",
       "      <td>0.996830</td>\n",
       "      <td>0.999107</td>\n",
       "      <td>1.004081</td>\n",
       "      <td>0.996462</td>\n",
       "      <td>1.002378</td>\n",
       "      <td>115622.626448</td>\n",
       "    </tr>\n",
       "    <tr>\n",
       "      <th>min</th>\n",
       "      <td>-2.385992</td>\n",
       "      <td>-1.442886</td>\n",
       "      <td>-2.196180</td>\n",
       "      <td>-1.207283</td>\n",
       "      <td>-1.277688</td>\n",
       "      <td>-1.256123</td>\n",
       "      <td>-1.303984</td>\n",
       "      <td>-1.774299</td>\n",
       "      <td>14999.000000</td>\n",
       "    </tr>\n",
       "    <tr>\n",
       "      <th>25%</th>\n",
       "      <td>-1.118200</td>\n",
       "      <td>-0.796789</td>\n",
       "      <td>-0.845393</td>\n",
       "      <td>-0.541705</td>\n",
       "      <td>-0.572483</td>\n",
       "      <td>-0.562043</td>\n",
       "      <td>-0.574229</td>\n",
       "      <td>-0.686382</td>\n",
       "      <td>119800.000000</td>\n",
       "    </tr>\n",
       "    <tr>\n",
       "      <th>50%</th>\n",
       "      <td>0.528931</td>\n",
       "      <td>-0.642287</td>\n",
       "      <td>0.028646</td>\n",
       "      <td>-0.232294</td>\n",
       "      <td>-0.238062</td>\n",
       "      <td>-0.228249</td>\n",
       "      <td>-0.234201</td>\n",
       "      <td>-0.171005</td>\n",
       "      <td>179850.000000</td>\n",
       "    </tr>\n",
       "    <tr>\n",
       "      <th>75%</th>\n",
       "      <td>0.778496</td>\n",
       "      <td>0.977638</td>\n",
       "      <td>0.664310</td>\n",
       "      <td>0.240303</td>\n",
       "      <td>0.262675</td>\n",
       "      <td>0.265378</td>\n",
       "      <td>0.278458</td>\n",
       "      <td>0.475058</td>\n",
       "      <td>265125.000000</td>\n",
       "    </tr>\n",
       "    <tr>\n",
       "      <th>max</th>\n",
       "      <td>2.625280</td>\n",
       "      <td>2.958068</td>\n",
       "      <td>1.856182</td>\n",
       "      <td>16.815580</td>\n",
       "      <td>14.087789</td>\n",
       "      <td>30.250330</td>\n",
       "      <td>14.601520</td>\n",
       "      <td>5.858286</td>\n",
       "      <td>500001.000000</td>\n",
       "    </tr>\n",
       "  </tbody>\n",
       "</table>\n",
       "</div>"
      ],
      "text/plain": [
       "          longitude      latitude  housing_median_age   total_rooms  \\\n",
       "count  16512.000000  16512.000000        16512.000000  16512.000000   \n",
       "mean      -0.006282      0.005285           -0.002479      0.002861   \n",
       "std        1.001083      1.000358            1.001370      0.996830   \n",
       "min       -2.385992     -1.442886           -2.196180     -1.207283   \n",
       "25%       -1.118200     -0.796789           -0.845393     -0.541705   \n",
       "50%        0.528931     -0.642287            0.028646     -0.232294   \n",
       "75%        0.778496      0.977638            0.664310      0.240303   \n",
       "max        2.625280      2.958068            1.856182     16.815580   \n",
       "\n",
       "       total_bedrooms    population    households  median_income  \\\n",
       "count    16512.000000  16512.000000  16512.000000   16512.000000   \n",
       "mean         0.003953      0.000862      0.001170       0.005308   \n",
       "std          0.999107      1.004081      0.996462       1.002378   \n",
       "min         -1.277688     -1.256123     -1.303984      -1.774299   \n",
       "25%         -0.572483     -0.562043     -0.574229      -0.686382   \n",
       "50%         -0.238062     -0.228249     -0.234201      -0.171005   \n",
       "75%          0.262675      0.265378      0.278458       0.475058   \n",
       "max         14.087789     30.250330     14.601520       5.858286   \n",
       "\n",
       "       median_house_value  \n",
       "count        16512.000000  \n",
       "mean        207194.693738  \n",
       "std         115622.626448  \n",
       "min          14999.000000  \n",
       "25%         119800.000000  \n",
       "50%         179850.000000  \n",
       "75%         265125.000000  \n",
       "max         500001.000000  "
      ]
     },
     "execution_count": 6,
     "metadata": {},
     "output_type": "execute_result"
    }
   ],
   "source": [
    "Htrain.describe() #Sumarry Statistics (is only valid fo rthe numerical data)"
   ]
  },
  {
   "cell_type": "markdown",
   "metadata": {},
   "source": [
    "### Simple Linear Regression\n",
    "\n",
    "Draw a scatter plot between median_income and median_house_value variables. What type of correlation exists between the variables? \n"
   ]
  },
  {
   "cell_type": "code",
   "execution_count": 7,
   "metadata": {},
   "outputs": [
    {
     "data": {
      "text/plain": [
       "Text(0.5, 1.0, 'Correlation between median_income and median_house_value')"
      ]
     },
     "execution_count": 7,
     "metadata": {},
     "output_type": "execute_result"
    },
    {
     "data": {
      "image/png": "[encoded data removed]",
      "text/plain": [
       "<Figure size 432x288 with 1 Axes>"
      ]
     },
     "metadata": {
      "needs_background": "light"
     },
     "output_type": "display_data"
    }
   ],
   "source": [
    "plt.figure()\n",
    "plt.scatter(Htrain[['median_income']],Htrain[['median_house_value']])\n",
    "plt.xlabel('median_income')\n",
    "plt.ylabel('median_house_value')\n",
    "plt.title('Correlation between median_income and median_house_value')\n",
    "#Strong correlation"
   ]
  },
  {
   "cell_type": "code",
   "execution_count": 8,
   "metadata": {},
   "outputs": [
    {
     "data": {
      "text/plain": [
       "0.6906466061467708"
      ]
     },
     "execution_count": 8,
     "metadata": {},
     "output_type": "execute_result"
    }
   ],
   "source": [
    "Htrain['median_income'].corr(Htrain['median_house_value']) ##Determine the correlation\n",
    "\n",
    "#Weak Correlation - 0.0 - 0.4\n",
    "#Moderate Correlation - 0.4 - 0.7\n",
    "#Postive Correlation - 0.7 - 1"
   ]
  },
  {
   "cell_type": "code",
   "execution_count": 9,
   "metadata": {},
   "outputs": [],
   "source": [
    "from sklearn.linear_model import LinearRegression\n",
    "from sklearn.metrics import mean_squared_error"
   ]
  },
  {
   "cell_type": "code",
   "execution_count": 10,
   "metadata": {},
   "outputs": [],
   "source": [
    "lin_reg = LinearRegression() #Creating an instance of Linear Regression"
   ]
  },
  {
   "cell_type": "code",
   "execution_count": 11,
   "metadata": {},
   "outputs": [
    {
     "data": {
      "text/plain": [
       "LinearRegression(copy_X=True, fit_intercept=True, n_jobs=None,\n",
       "         normalize=False)"
      ]
     },
     "execution_count": 11,
     "metadata": {},
     "output_type": "execute_result"
    }
   ],
   "source": [
    "lin_reg.fit(Htrain[['median_income']],Htrain['median_house_value']) #Train our LR model on the Train Set  "
   ]
  },
  {
   "cell_type": "code",
   "execution_count": 12,
   "metadata": {},
   "outputs": [
    {
     "data": {
      "text/plain": [
       "array([79664.90785833])"
      ]
     },
     "execution_count": 12,
     "metadata": {},
     "output_type": "execute_result"
    }
   ],
   "source": [
    "lin_reg.coef_ #Coeficient/Slope/m"
   ]
  },
  {
   "cell_type": "code",
   "execution_count": 13,
   "metadata": {},
   "outputs": [
    {
     "data": {
      "text/plain": [
       "206771.86405797795"
      ]
     },
     "execution_count": 13,
     "metadata": {},
     "output_type": "execute_result"
    }
   ],
   "source": [
    "lin_reg.intercept_ #Y-intercept/c/Beta0"
   ]
  },
  {
   "cell_type": "code",
   "execution_count": 14,
   "metadata": {
    "scrolled": true
   },
   "outputs": [
    {
     "data": {
      "text/plain": [
       "0.47699273458205255"
      ]
     },
     "execution_count": 14,
     "metadata": {},
     "output_type": "execute_result"
    }
   ],
   "source": [
    "lin_reg.score(Htrain[['median_income']],Htrain['median_house_value']) #R-Square value of the prediction"
   ]
  },
  {
   "cell_type": "code",
   "execution_count": 15,
   "metadata": {},
   "outputs": [
    {
     "data": {
      "text/plain": [
       "0.4769927345820527"
      ]
     },
     "execution_count": 15,
     "metadata": {},
     "output_type": "execute_result"
    }
   ],
   "source": [
    "0.6906466061467708 ** 2"
   ]
  },
  {
   "cell_type": "code",
   "execution_count": 16,
   "metadata": {},
   "outputs": [],
   "source": [
    "y_pred_Train = lin_reg.predict(Htrain[['median_income']]) #Predict values on the Train Set"
   ]
  },
  {
   "cell_type": "code",
   "execution_count": 17,
   "metadata": {},
   "outputs": [
    {
     "data": {
      "text/plain": [
       "array([181147.30465315, 204332.52998299, 218749.38740458, 125916.23161656,\n",
       "       193501.01668457, 322175.03354948])"
      ]
     },
     "execution_count": 17,
     "metadata": {},
     "output_type": "execute_result"
    }
   ],
   "source": [
    "y_pred_Train[:6] # The first 6 Predicted values / y-cap"
   ]
  },
  {
   "cell_type": "code",
   "execution_count": 18,
   "metadata": {},
   "outputs": [
    {
     "data": {
      "text/plain": [
       "83614.87409655548"
      ]
     },
     "execution_count": 18,
     "metadata": {},
     "output_type": "execute_result"
    }
   ],
   "source": [
    "lin_rmse = np.sqrt(mean_squared_error(Htrain['median_house_value'],y_pred_Train))\n",
    "lin_rmse #Root - Mean squared Error"
   ]
  },
  {
   "cell_type": "code",
   "execution_count": 19,
   "metadata": {},
   "outputs": [
    {
     "data": {
      "text/plain": [
       "Text(0.5, 1.0, 'Linear Regression on median_income ~ median_house_value')"
      ]
     },
     "execution_count": 19,
     "metadata": {},
     "output_type": "execute_result"
    },
    {
     "data": {
      "image/png": "[encoded data removed]",
      "text/plain": [
       "<Figure size 432x288 with 1 Axes>"
      ]
     },
     "metadata": {
      "needs_background": "light"
     },
     "output_type": "display_data"
    }
   ],
   "source": [
    "plt.scatter(Htrain[['median_income']],Htrain['median_house_value'])\n",
    "plt.plot(Htrain[['median_income']],y_pred_Train,'r')\n",
    "plt.axis([-2,6,0,550000]) #range on x-axis and y-axis\n",
    "plt.xlabel('Median Income')\n",
    "plt.ylabel('Median House Price')\n",
    "plt.title('Linear Regression on median_income ~ median_house_value')"
   ]
  },
  {
   "cell_type": "markdown",
   "metadata": {},
   "source": [
    "## Gradient Descent Regression"
   ]
  },
  {
   "cell_type": "code",
   "execution_count": 20,
   "metadata": {},
   "outputs": [],
   "source": [
    "from sklearn.linear_model import SGDRegressor"
   ]
  },
  {
   "cell_type": "code",
   "execution_count": 21,
   "metadata": {},
   "outputs": [],
   "source": [
    "gdreg = SGDRegressor() # Creating an instance of the Scohastic Gradient Descent Regressor"
   ]
  },
  {
   "cell_type": "code",
   "execution_count": 22,
   "metadata": {},
   "outputs": [
    {
     "name": "stderr",
     "output_type": "stream",
     "text": [
      "/home/nbuser/anaconda3_501/lib/python3.6/site-packages/sklearn/linear_model/stochastic_gradient.py:166: FutureWarning: max_iter and tol parameters have been added in SGDRegressor in 0.19. If both are left unset, they default to max_iter=5 and tol=None. If tol is not None, max_iter defaults to max_iter=1000. From 0.21, default max_iter will be 1000, and default tol will be 1e-3.\n",
      "  FutureWarning)\n"
     ]
    },
    {
     "data": {
      "text/plain": [
       "SGDRegressor(alpha=0.0001, average=False, early_stopping=False, epsilon=0.1,\n",
       "       eta0=0.01, fit_intercept=True, l1_ratio=0.15,\n",
       "       learning_rate='invscaling', loss='squared_loss', max_iter=None,\n",
       "       n_iter=None, n_iter_no_change=5, penalty='l2', power_t=0.25,\n",
       "       random_state=None, shuffle=True, tol=None, validation_fraction=0.1,\n",
       "       verbose=0, warm_start=False)"
      ]
     },
     "execution_count": 22,
     "metadata": {},
     "output_type": "execute_result"
    }
   ],
   "source": [
    "gdreg.fit(Htrain[['median_income']],Htrain['median_house_value']) #Train our SGDR model on the Train Set"
   ]
  },
  {
   "cell_type": "code",
   "execution_count": 23,
   "metadata": {},
   "outputs": [
    {
     "data": {
      "text/plain": [
       "array([206236.27957028])"
      ]
     },
     "execution_count": 23,
     "metadata": {},
     "output_type": "execute_result"
    }
   ],
   "source": [
    "gdreg.intercept_ #Beta0/c"
   ]
  },
  {
   "cell_type": "code",
   "execution_count": 24,
   "metadata": {
    "scrolled": true
   },
   "outputs": [
    {
     "data": {
      "text/plain": [
       "array([78660.39079015])"
      ]
     },
     "execution_count": 24,
     "metadata": {},
     "output_type": "execute_result"
    }
   ],
   "source": [
    "gdreg.coef_ #Slope/m"
   ]
  },
  {
   "cell_type": "code",
   "execution_count": 25,
   "metadata": {},
   "outputs": [
    {
     "data": {
      "text/plain": [
       "0.47689500792222317"
      ]
     },
     "execution_count": 25,
     "metadata": {},
     "output_type": "execute_result"
    }
   ],
   "source": [
    "gdreg.score(Htrain[['median_income']],Htrain['median_house_value']) #R-Square of the model"
   ]
  },
  {
   "cell_type": "code",
   "execution_count": 26,
   "metadata": {},
   "outputs": [],
   "source": [
    "y_Pred_gd = gdreg.predict(Htrain[['median_income']])  #Predicting the value of Train set"
   ]
  },
  {
   "cell_type": "code",
   "execution_count": 27,
   "metadata": {
    "scrolled": true
   },
   "outputs": [
    {
     "data": {
      "text/plain": [
       "Text(0.5, 1.0, 'Best Fit Line using Gradient Descent Method')"
      ]
     },
     "execution_count": 27,
     "metadata": {},
     "output_type": "execute_result"
    },
    {
     "data": {
      "image/png": "[encoded data removed]",
      "text/plain": [
       "<Figure size 432x288 with 1 Axes>"
      ]
     },
     "metadata": {
      "needs_background": "light"
     },
     "output_type": "display_data"
    }
   ],
   "source": [
    "plt.scatter(Htrain[['median_income']],Htrain['median_house_value'])\n",
    "plt.plot(Htrain[['median_income']],y_Pred_gd,'r')\n",
    "plt.axis([-2,6,0,550000]) #range on x-axis and y-axis\n",
    "plt.xlabel('Median Income')\n",
    "plt.ylabel('Median House Price')\n",
    "plt.title('Best Fit Line using Gradient Descent Method')"
   ]
  },
  {
   "cell_type": "markdown",
   "metadata": {},
   "source": [
    "### Multiple Linear Regression"
   ]
  },
  {
   "cell_type": "code",
   "execution_count": 28,
   "metadata": {},
   "outputs": [],
   "source": [
    "model_all = LinearRegression() #Creating an instance"
   ]
  },
  {
   "cell_type": "code",
   "execution_count": 29,
   "metadata": {},
   "outputs": [
    {
     "data": {
      "text/html": [
       "<div>\n",
       "<style scoped>\n",
       "    .dataframe tbody tr th:only-of-type {\n",
       "        vertical-align: middle;\n",
       "    }\n",
       "\n",
       "    .dataframe tbody tr th {\n",
       "        vertical-align: top;\n",
       "    }\n",
       "\n",
       "    .dataframe thead th {\n",
       "        text-align: right;\n",
       "    }\n",
       "</style>\n",
       "<table border=\"1\" class=\"dataframe\">\n",
       "  <thead>\n",
       "    <tr style=\"text-align: right;\">\n",
       "      <th></th>\n",
       "      <th>longitude</th>\n",
       "      <th>latitude</th>\n",
       "      <th>housing_median_age</th>\n",
       "      <th>total_rooms</th>\n",
       "      <th>total_bedrooms</th>\n",
       "      <th>population</th>\n",
       "      <th>households</th>\n",
       "      <th>median_income</th>\n",
       "    </tr>\n",
       "  </thead>\n",
       "  <tbody>\n",
       "    <tr>\n",
       "      <th>0</th>\n",
       "      <td>1.267645</td>\n",
       "      <td>-1.367976</td>\n",
       "      <td>0.346478</td>\n",
       "      <td>0.224718</td>\n",
       "      <td>0.214986</td>\n",
       "      <td>0.772251</td>\n",
       "      <td>0.322924</td>\n",
       "      <td>-0.321654</td>\n",
       "    </tr>\n",
       "    <tr>\n",
       "      <th>1</th>\n",
       "      <td>0.703627</td>\n",
       "      <td>-0.871699</td>\n",
       "      <td>1.617807</td>\n",
       "      <td>0.342065</td>\n",
       "      <td>0.596500</td>\n",
       "      <td>-0.098440</td>\n",
       "      <td>0.670799</td>\n",
       "      <td>-0.030620</td>\n",
       "    </tr>\n",
       "    <tr>\n",
       "      <th>2</th>\n",
       "      <td>-0.454356</td>\n",
       "      <td>-0.455012</td>\n",
       "      <td>-1.957806</td>\n",
       "      <td>-0.338639</td>\n",
       "      <td>-0.490815</td>\n",
       "      <td>-0.450778</td>\n",
       "      <td>-0.427755</td>\n",
       "      <td>0.150349</td>\n",
       "    </tr>\n",
       "    <tr>\n",
       "      <th>3</th>\n",
       "      <td>1.227714</td>\n",
       "      <td>-1.377340</td>\n",
       "      <td>0.584852</td>\n",
       "      <td>-0.556832</td>\n",
       "      <td>-0.404974</td>\n",
       "      <td>-0.006602</td>\n",
       "      <td>-0.378059</td>\n",
       "      <td>-1.014947</td>\n",
       "    </tr>\n",
       "    <tr>\n",
       "      <th>4</th>\n",
       "      <td>-0.114948</td>\n",
       "      <td>0.537543</td>\n",
       "      <td>1.141059</td>\n",
       "      <td>-0.116322</td>\n",
       "      <td>-0.252369</td>\n",
       "      <td>-0.486983</td>\n",
       "      <td>-0.312669</td>\n",
       "      <td>-0.166583</td>\n",
       "    </tr>\n",
       "  </tbody>\n",
       "</table>\n",
       "</div>"
      ],
      "text/plain": [
       "   longitude  latitude  housing_median_age  total_rooms  total_bedrooms  \\\n",
       "0   1.267645 -1.367976            0.346478     0.224718        0.214986   \n",
       "1   0.703627 -0.871699            1.617807     0.342065        0.596500   \n",
       "2  -0.454356 -0.455012           -1.957806    -0.338639       -0.490815   \n",
       "3   1.227714 -1.377340            0.584852    -0.556832       -0.404974   \n",
       "4  -0.114948  0.537543            1.141059    -0.116322       -0.252369   \n",
       "\n",
       "   population  households  median_income  \n",
       "0    0.772251    0.322924      -0.321654  \n",
       "1   -0.098440    0.670799      -0.030620  \n",
       "2   -0.450778   -0.427755       0.150349  \n",
       "3   -0.006602   -0.378059      -1.014947  \n",
       "4   -0.486983   -0.312669      -0.166583  "
      ]
     },
     "execution_count": 29,
     "metadata": {},
     "output_type": "execute_result"
    }
   ],
   "source": [
    "#Dropping the target variable from the dataframe to create a feature matrix // axis = 1 is for along the column.\n",
    "X_Train = Htrain.drop('median_house_value',axis=1)\n",
    "X_Train.head()"
   ]
  },
  {
   "cell_type": "code",
   "execution_count": 30,
   "metadata": {},
   "outputs": [
    {
     "data": {
      "text/plain": [
       "0    103000.0\n",
       "1    382100.0\n",
       "2    172600.0\n",
       "3     93400.0\n",
       "4     96500.0\n",
       "Name: median_house_value, dtype: float64"
      ]
     },
     "execution_count": 30,
     "metadata": {},
     "output_type": "execute_result"
    }
   ],
   "source": [
    "#Making a dependent variable array \n",
    "Y_Train = Htrain['median_house_value']\n",
    "Y_Train.head()"
   ]
  },
  {
   "cell_type": "code",
   "execution_count": 31,
   "metadata": {},
   "outputs": [
    {
     "data": {
      "text/plain": [
       "LinearRegression(copy_X=True, fit_intercept=True, n_jobs=None,\n",
       "         normalize=False)"
      ]
     },
     "execution_count": 31,
     "metadata": {},
     "output_type": "execute_result"
    }
   ],
   "source": [
    "#Training the MLR model on the traning set\n",
    "model_all.fit(X_Train,Y_Train)"
   ]
  },
  {
   "cell_type": "code",
   "execution_count": 32,
   "metadata": {},
   "outputs": [
    {
     "data": {
      "text/plain": [
       "array([-85413.28005747, -90669.13624699,  14885.95835764, -17862.58294108,\n",
       "        48757.37209674, -43589.91735845,  17717.71485854,  77013.87535191])"
      ]
     },
     "execution_count": 32,
     "metadata": {},
     "output_type": "execute_result"
    }
   ],
   "source": [
    "model_all.coef_ #Slopes/m"
   ]
  },
  {
   "cell_type": "code",
   "execution_count": 33,
   "metadata": {},
   "outputs": [
    {
     "data": {
      "text/plain": [
       "206640.6370318638"
      ]
     },
     "execution_count": 33,
     "metadata": {},
     "output_type": "execute_result"
    }
   ],
   "source": [
    "model_all.intercept_ #Beta0/c"
   ]
  },
  {
   "cell_type": "code",
   "execution_count": 34,
   "metadata": {},
   "outputs": [
    {
     "data": {
      "text/plain": [
       "0.6400947924305294"
      ]
     },
     "execution_count": 34,
     "metadata": {},
     "output_type": "execute_result"
    }
   ],
   "source": [
    "#Evalutae the R-square for the model\n",
    "model_all.score(X_Train,Y_Train)"
   ]
  },
  {
   "cell_type": "code",
   "execution_count": 35,
   "metadata": {},
   "outputs": [],
   "source": [
    "y_pred_MLR = model_all.predict(X_Train) #Predict on the training set "
   ]
  },
  {
   "cell_type": "code",
   "execution_count": 36,
   "metadata": {},
   "outputs": [],
   "source": [
    "rmse = np.sqrt(mean_squared_error(Y_Train,y_pred_MLR)) #Evluation matrix"
   ]
  },
  {
   "cell_type": "code",
   "execution_count": 37,
   "metadata": {
    "scrolled": true
   },
   "outputs": [
    {
     "data": {
      "text/plain": [
       "69362.34135238081"
      ]
     },
     "execution_count": 37,
     "metadata": {},
     "output_type": "execute_result"
    }
   ],
   "source": [
    "rmse"
   ]
  },
  {
   "cell_type": "markdown",
   "metadata": {},
   "source": [
    "### Feature Selection - Adding One by One all the features to understand Multiple Linear Regression."
   ]
  },
  {
   "cell_type": "code",
   "execution_count": 38,
   "metadata": {},
   "outputs": [
    {
     "data": {
      "text/html": [
       "<div>\n",
       "<style scoped>\n",
       "    .dataframe tbody tr th:only-of-type {\n",
       "        vertical-align: middle;\n",
       "    }\n",
       "\n",
       "    .dataframe tbody tr th {\n",
       "        vertical-align: top;\n",
       "    }\n",
       "\n",
       "    .dataframe thead th {\n",
       "        text-align: right;\n",
       "    }\n",
       "</style>\n",
       "<table border=\"1\" class=\"dataframe\">\n",
       "  <thead>\n",
       "    <tr style=\"text-align: right;\">\n",
       "      <th></th>\n",
       "      <th>longitude</th>\n",
       "      <th>latitude</th>\n",
       "      <th>housing_median_age</th>\n",
       "      <th>total_rooms</th>\n",
       "      <th>total_bedrooms</th>\n",
       "      <th>population</th>\n",
       "      <th>households</th>\n",
       "      <th>median_income</th>\n",
       "      <th>median_house_value</th>\n",
       "    </tr>\n",
       "  </thead>\n",
       "  <tbody>\n",
       "    <tr>\n",
       "      <th>longitude</th>\n",
       "      <td>1.000000</td>\n",
       "      <td>-0.924485</td>\n",
       "      <td>-0.101818</td>\n",
       "      <td>0.038676</td>\n",
       "      <td>0.063064</td>\n",
       "      <td>0.094276</td>\n",
       "      <td>0.049306</td>\n",
       "      <td>-0.017040</td>\n",
       "      <td>-0.046349</td>\n",
       "    </tr>\n",
       "    <tr>\n",
       "      <th>latitude</th>\n",
       "      <td>-0.924485</td>\n",
       "      <td>1.000000</td>\n",
       "      <td>0.005296</td>\n",
       "      <td>-0.029224</td>\n",
       "      <td>-0.059998</td>\n",
       "      <td>-0.102499</td>\n",
       "      <td>-0.064061</td>\n",
       "      <td>-0.076571</td>\n",
       "      <td>-0.142983</td>\n",
       "    </tr>\n",
       "    <tr>\n",
       "      <th>housing_median_age</th>\n",
       "      <td>-0.101818</td>\n",
       "      <td>0.005296</td>\n",
       "      <td>1.000000</td>\n",
       "      <td>-0.360922</td>\n",
       "      <td>-0.320624</td>\n",
       "      <td>-0.292283</td>\n",
       "      <td>-0.302796</td>\n",
       "      <td>-0.121711</td>\n",
       "      <td>0.103706</td>\n",
       "    </tr>\n",
       "    <tr>\n",
       "      <th>total_rooms</th>\n",
       "      <td>0.038676</td>\n",
       "      <td>-0.029224</td>\n",
       "      <td>-0.360922</td>\n",
       "      <td>1.000000</td>\n",
       "      <td>0.930489</td>\n",
       "      <td>0.857936</td>\n",
       "      <td>0.920482</td>\n",
       "      <td>0.198268</td>\n",
       "      <td>0.133989</td>\n",
       "    </tr>\n",
       "    <tr>\n",
       "      <th>total_bedrooms</th>\n",
       "      <td>0.063064</td>\n",
       "      <td>-0.059998</td>\n",
       "      <td>-0.320624</td>\n",
       "      <td>0.930489</td>\n",
       "      <td>1.000000</td>\n",
       "      <td>0.878932</td>\n",
       "      <td>0.980255</td>\n",
       "      <td>-0.009141</td>\n",
       "      <td>0.047980</td>\n",
       "    </tr>\n",
       "    <tr>\n",
       "      <th>population</th>\n",
       "      <td>0.094276</td>\n",
       "      <td>-0.102499</td>\n",
       "      <td>-0.292283</td>\n",
       "      <td>0.857936</td>\n",
       "      <td>0.878932</td>\n",
       "      <td>1.000000</td>\n",
       "      <td>0.907452</td>\n",
       "      <td>0.004122</td>\n",
       "      <td>-0.026032</td>\n",
       "    </tr>\n",
       "    <tr>\n",
       "      <th>households</th>\n",
       "      <td>0.049306</td>\n",
       "      <td>-0.064061</td>\n",
       "      <td>-0.302796</td>\n",
       "      <td>0.920482</td>\n",
       "      <td>0.980255</td>\n",
       "      <td>0.907452</td>\n",
       "      <td>1.000000</td>\n",
       "      <td>0.012776</td>\n",
       "      <td>0.063714</td>\n",
       "    </tr>\n",
       "    <tr>\n",
       "      <th>median_income</th>\n",
       "      <td>-0.017040</td>\n",
       "      <td>-0.076571</td>\n",
       "      <td>-0.121711</td>\n",
       "      <td>0.198268</td>\n",
       "      <td>-0.009141</td>\n",
       "      <td>0.004122</td>\n",
       "      <td>0.012776</td>\n",
       "      <td>1.000000</td>\n",
       "      <td>0.690647</td>\n",
       "    </tr>\n",
       "    <tr>\n",
       "      <th>median_house_value</th>\n",
       "      <td>-0.046349</td>\n",
       "      <td>-0.142983</td>\n",
       "      <td>0.103706</td>\n",
       "      <td>0.133989</td>\n",
       "      <td>0.047980</td>\n",
       "      <td>-0.026032</td>\n",
       "      <td>0.063714</td>\n",
       "      <td>0.690647</td>\n",
       "      <td>1.000000</td>\n",
       "    </tr>\n",
       "  </tbody>\n",
       "</table>\n",
       "</div>"
      ],
      "text/plain": [
       "                    longitude  latitude  housing_median_age  total_rooms  \\\n",
       "longitude            1.000000 -0.924485           -0.101818     0.038676   \n",
       "latitude            -0.924485  1.000000            0.005296    -0.029224   \n",
       "housing_median_age  -0.101818  0.005296            1.000000    -0.360922   \n",
       "total_rooms          0.038676 -0.029224           -0.360922     1.000000   \n",
       "total_bedrooms       0.063064 -0.059998           -0.320624     0.930489   \n",
       "population           0.094276 -0.102499           -0.292283     0.857936   \n",
       "households           0.049306 -0.064061           -0.302796     0.920482   \n",
       "median_income       -0.017040 -0.076571           -0.121711     0.198268   \n",
       "median_house_value  -0.046349 -0.142983            0.103706     0.133989   \n",
       "\n",
       "                    total_bedrooms  population  households  median_income  \\\n",
       "longitude                 0.063064    0.094276    0.049306      -0.017040   \n",
       "latitude                 -0.059998   -0.102499   -0.064061      -0.076571   \n",
       "housing_median_age       -0.320624   -0.292283   -0.302796      -0.121711   \n",
       "total_rooms               0.930489    0.857936    0.920482       0.198268   \n",
       "total_bedrooms            1.000000    0.878932    0.980255      -0.009141   \n",
       "population                0.878932    1.000000    0.907452       0.004122   \n",
       "households                0.980255    0.907452    1.000000       0.012776   \n",
       "median_income            -0.009141    0.004122    0.012776       1.000000   \n",
       "median_house_value        0.047980   -0.026032    0.063714       0.690647   \n",
       "\n",
       "                    median_house_value  \n",
       "longitude                    -0.046349  \n",
       "latitude                     -0.142983  \n",
       "housing_median_age            0.103706  \n",
       "total_rooms                   0.133989  \n",
       "total_bedrooms                0.047980  \n",
       "population                   -0.026032  \n",
       "households                    0.063714  \n",
       "median_income                 0.690647  \n",
       "median_house_value            1.000000  "
      ]
     },
     "execution_count": 38,
     "metadata": {},
     "output_type": "execute_result"
    }
   ],
   "source": [
    "Htrain.corr() #Correlation Table"
   ]
  },
  {
   "cell_type": "markdown",
   "metadata": {},
   "source": [
    "## Model with 'longitude' variable"
   ]
  },
  {
   "cell_type": "code",
   "execution_count": 39,
   "metadata": {},
   "outputs": [],
   "source": [
    "model1 = LinearRegression()"
   ]
  },
  {
   "cell_type": "code",
   "execution_count": 40,
   "metadata": {},
   "outputs": [
    {
     "data": {
      "text/plain": [
       "LinearRegression(copy_X=True, fit_intercept=True, n_jobs=None,\n",
       "         normalize=False)"
      ]
     },
     "execution_count": 40,
     "metadata": {},
     "output_type": "execute_result"
    }
   ],
   "source": [
    "model1.fit(X_Train[['longitude']],Y_Train)"
   ]
  },
  {
   "cell_type": "code",
   "execution_count": 41,
   "metadata": {},
   "outputs": [
    {
     "data": {
      "text/plain": [
       "array([-5353.18054039])"
      ]
     },
     "execution_count": 41,
     "metadata": {},
     "output_type": "execute_result"
    }
   ],
   "source": [
    "model1.coef_"
   ]
  },
  {
   "cell_type": "code",
   "execution_count": 42,
   "metadata": {},
   "outputs": [
    {
     "data": {
      "text/plain": [
       "207161.06474598034"
      ]
     },
     "execution_count": 42,
     "metadata": {},
     "output_type": "execute_result"
    }
   ],
   "source": [
    "model1.intercept_"
   ]
  },
  {
   "cell_type": "code",
   "execution_count": 43,
   "metadata": {},
   "outputs": [
    {
     "data": {
      "text/plain": [
       "0.0021482189561506937"
      ]
     },
     "execution_count": 43,
     "metadata": {},
     "output_type": "execute_result"
    }
   ],
   "source": [
    "model1.score(X_Train[['longitude']],Y_Train)"
   ]
  },
  {
   "cell_type": "markdown",
   "metadata": {},
   "source": [
    "## Model with 'longitude' & 'latitude' variables"
   ]
  },
  {
   "cell_type": "code",
   "execution_count": 44,
   "metadata": {},
   "outputs": [],
   "source": [
    "model2 = LinearRegression()"
   ]
  },
  {
   "cell_type": "code",
   "execution_count": 45,
   "metadata": {},
   "outputs": [
    {
     "data": {
      "text/plain": [
       "LinearRegression(copy_X=True, fit_intercept=True, n_jobs=None,\n",
       "         normalize=False)"
      ]
     },
     "execution_count": 45,
     "metadata": {},
     "output_type": "execute_result"
    }
   ],
   "source": [
    "model2.fit(X_Train[['longitude','latitude']],Y_Train)"
   ]
  },
  {
   "cell_type": "code",
   "execution_count": 46,
   "metadata": {},
   "outputs": [
    {
     "data": {
      "text/plain": [
       "array([-141889.12431787, -147795.69758896])"
      ]
     },
     "execution_count": 46,
     "metadata": {},
     "output_type": "execute_result"
    }
   ],
   "source": [
    "model2.coef_"
   ]
  },
  {
   "cell_type": "code",
   "execution_count": 47,
   "metadata": {},
   "outputs": [
    {
     "data": {
      "text/plain": [
       "207084.4075166661"
      ]
     },
     "execution_count": 47,
     "metadata": {},
     "output_type": "execute_result"
    }
   ],
   "source": [
    "model2.intercept_"
   ]
  },
  {
   "cell_type": "code",
   "execution_count": 48,
   "metadata": {
    "scrolled": true
   },
   "outputs": [
    {
     "data": {
      "text/plain": [
       "0.23977500440286748"
      ]
     },
     "execution_count": 48,
     "metadata": {},
     "output_type": "execute_result"
    }
   ],
   "source": [
    "model2.score(X_Train[['longitude','latitude']],Y_Train)"
   ]
  },
  {
   "cell_type": "markdown",
   "metadata": {},
   "source": [
    "## Model with 'longitude','latitude' & 'housing_median_age' variables"
   ]
  },
  {
   "cell_type": "code",
   "execution_count": 49,
   "metadata": {},
   "outputs": [],
   "source": [
    "model3 = LinearRegression()"
   ]
  },
  {
   "cell_type": "code",
   "execution_count": 50,
   "metadata": {},
   "outputs": [
    {
     "data": {
      "text/plain": [
       "LinearRegression(copy_X=True, fit_intercept=True, n_jobs=None,\n",
       "         normalize=False)"
      ]
     },
     "execution_count": 50,
     "metadata": {},
     "output_type": "execute_result"
    }
   ],
   "source": [
    "model3.fit(X_Train[['longitude','latitude','housing_median_age']],Y_Train)"
   ]
  },
  {
   "cell_type": "code",
   "execution_count": 51,
   "metadata": {},
   "outputs": [
    {
     "data": {
      "text/plain": [
       "array([-143091.95032316, -148898.94074323,   -1803.0265797 ])"
      ]
     },
     "execution_count": 51,
     "metadata": {},
     "output_type": "execute_result"
    }
   ],
   "source": [
    "model3.coef_"
   ]
  },
  {
   "cell_type": "code",
   "execution_count": 52,
   "metadata": {},
   "outputs": [
    {
     "data": {
      "text/plain": [
       "207078.21161327386"
      ]
     },
     "execution_count": 52,
     "metadata": {},
     "output_type": "execute_result"
    }
   ],
   "source": [
    "model3.intercept_"
   ]
  },
  {
   "cell_type": "code",
   "execution_count": 53,
   "metadata": {},
   "outputs": [
    {
     "data": {
      "text/plain": [
       "0.24000307748194905"
      ]
     },
     "execution_count": 53,
     "metadata": {},
     "output_type": "execute_result"
    }
   ],
   "source": [
    "model3.score(X_Train[['longitude','latitude','housing_median_age']],Y_Train)"
   ]
  },
  {
   "cell_type": "markdown",
   "metadata": {},
   "source": [
    "## Model with 'longitude','latitude','housing_median_age' & 'total_rooms' variables"
   ]
  },
  {
   "cell_type": "code",
   "execution_count": 54,
   "metadata": {},
   "outputs": [
    {
     "name": "stdout",
     "output_type": "stream",
     "text": [
      "Coefficients :  [-139918.19489232 -145458.44039198    5180.33149439   18588.32272379]\n",
      "Intercept :  207044.09690195063\n"
     ]
    },
    {
     "data": {
      "text/plain": [
       "0.26221824117424786"
      ]
     },
     "execution_count": 54,
     "metadata": {},
     "output_type": "execute_result"
    }
   ],
   "source": [
    "model1.fit(X_Train[['longitude','latitude','housing_median_age','total_rooms']],Y_Train)\n",
    "print(\"Coefficients : \",model1.coef_)\n",
    "print(\"Intercept : \", model1.intercept_)\n",
    "model1.score(X_Train[['longitude','latitude','housing_median_age','total_rooms']],Y_Train)"
   ]
  },
  {
   "cell_type": "markdown",
   "metadata": {},
   "source": [
    "## Model with 'longitude','latitude','housing_median_age', 'total_rooms' & 'total_bedrooms' variables"
   ]
  },
  {
   "cell_type": "code",
   "execution_count": 55,
   "metadata": {},
   "outputs": [
    {
     "name": "stdout",
     "output_type": "stream",
     "text": [
      "Coefficients :  [-140821.79695263 -148740.880461      6374.50953443   88723.50645406\n",
      "  -74804.09155293]\n",
      "Intercept :  207153.79553383638\n"
     ]
    },
    {
     "data": {
      "text/plain": [
       "0.31771834380202746"
      ]
     },
     "execution_count": 55,
     "metadata": {},
     "output_type": "execute_result"
    }
   ],
   "source": [
    "model1.fit(X_Train[['longitude','latitude','housing_median_age','total_rooms','total_bedrooms']],Y_Train)\n",
    "print(\"Coefficients : \",model1.coef_)\n",
    "print(\"Intercept : \", model1.intercept_)\n",
    "model1.score(X_Train[['longitude','latitude','housing_median_age','total_rooms','total_bedrooms']],Y_Train)"
   ]
  },
  {
   "cell_type": "markdown",
   "metadata": {},
   "source": [
    "## Model with 'longitude','latitude','housing_median_age','total_rooms','total_bedrooms' & 'population' variables"
   ]
  },
  {
   "cell_type": "code",
   "execution_count": 56,
   "metadata": {},
   "outputs": [
    {
     "name": "stdout",
     "output_type": "stream",
     "text": [
      "Coefficients :  [-144389.62331851 -155699.63277662    6583.01551464  108502.58659167\n",
      "  -38029.63257305  -62562.8816911 ]\n",
      "Intercept :  207020.6342050893\n"
     ]
    },
    {
     "data": {
      "text/plain": [
       "0.3801845000742566"
      ]
     },
     "execution_count": 56,
     "metadata": {},
     "output_type": "execute_result"
    }
   ],
   "source": [
    "model1.fit(X_Train[['longitude','latitude','housing_median_age','total_rooms','total_bedrooms','population']],Y_Train)\n",
    "print(\"Coefficients : \",model1.coef_)\n",
    "print(\"Intercept : \", model1.intercept_)\n",
    "model1.score(X_Train[['longitude','latitude','housing_median_age','total_rooms','total_bedrooms','population']],Y_Train)"
   ]
  },
  {
   "cell_type": "markdown",
   "metadata": {},
   "source": [
    "## Model with 'longitude','latitude','housing_median_age','total_rooms','total_bedrooms','population' & 'households' variables"
   ]
  },
  {
   "cell_type": "code",
   "execution_count": 57,
   "metadata": {},
   "outputs": [
    {
     "name": "stdout",
     "output_type": "stream",
     "text": [
      "Coefficients :  [-139798.10182907 -151645.85741153    6391.26182068  108158.05257741\n",
      "  -72441.0594132   -71027.870383     43062.25888446]\n",
      "Intercept :  207121.53176075255\n"
     ]
    },
    {
     "data": {
      "text/plain": [
       "0.3840491803301826"
      ]
     },
     "execution_count": 57,
     "metadata": {},
     "output_type": "execute_result"
    }
   ],
   "source": [
    "model1.fit(X_Train[['longitude','latitude','housing_median_age','total_rooms','total_bedrooms','population','households']],Y_Train)\n",
    "print(\"Coefficients : \",model1.coef_)\n",
    "print(\"Intercept : \", model1.intercept_)\n",
    "model1.score(X_Train[['longitude','latitude','housing_median_age','total_rooms','total_bedrooms','population','households']],Y_Train)"
   ]
  },
  {
   "cell_type": "markdown",
   "metadata": {},
   "source": [
    "## Model with 'longitude','latitude','housing_median_age','total_rooms','total_bedrooms','population','households' & 'median_income' variables"
   ]
  },
  {
   "cell_type": "code",
   "execution_count": 58,
   "metadata": {},
   "outputs": [
    {
     "name": "stdout",
     "output_type": "stream",
     "text": [
      "Coefficients :  [-85413.28005747 -90669.13624699  14885.95835764 -17862.58294108\n",
      "  48757.37209674 -43589.91735845  17717.71485854  77013.87535191]\n",
      "Intercept :  206640.6370318638\n"
     ]
    },
    {
     "data": {
      "text/plain": [
       "0.6400947924305294"
      ]
     },
     "execution_count": 58,
     "metadata": {},
     "output_type": "execute_result"
    }
   ],
   "source": [
    "model1.fit(X_Train[['longitude','latitude','housing_median_age','total_rooms','total_bedrooms','population','households','median_income']],Y_Train)\n",
    "print(\"Coefficients : \",model1.coef_)\n",
    "print(\"Intercept : \", model1.intercept_)\n",
    "model1.score(X_Train[['longitude','latitude','housing_median_age','total_rooms','total_bedrooms','population','households','median_income']],Y_Train)"
   ]
  },
  {
   "cell_type": "markdown",
   "metadata": {},
   "source": [
    "## Select K best method for Feature Selection."
   ]
  },
  {
   "cell_type": "code",
   "execution_count": 60,
   "metadata": {},
   "outputs": [],
   "source": [
    "from sklearn.feature_selection import f_regression, SelectKBest"
   ]
  },
  {
   "cell_type": "code",
   "execution_count": 62,
   "metadata": {},
   "outputs": [],
   "source": [
    "select_feature = SelectKBest(f_regression,k=6).fit(X_Train,Y_Train) ##Selecting best 6 features on the basis of the f_regression score"
   ]
  },
  {
   "cell_type": "code",
   "execution_count": 65,
   "metadata": {},
   "outputs": [
    {
     "data": {
      "text/plain": [
       "array([3.55434501e+01, 3.44579030e+02, 1.79495552e+02, 3.01823325e+02,\n",
       "       3.80956840e+01, 1.11961694e+01, 6.72961323e+01, 1.50574391e+04])"
      ]
     },
     "execution_count": 65,
     "metadata": {},
     "output_type": "execute_result"
    }
   ],
   "source": [
    "select_feature.scores_ ##Score for each variable"
   ]
  },
  {
   "cell_type": "code",
   "execution_count": 64,
   "metadata": {},
   "outputs": [
    {
     "data": {
      "text/plain": [
       "array([2.54505126e-09, 3.82179753e-76, 1.01919784e-40, 5.20398942e-67,\n",
       "       6.89318215e-10, 8.21491618e-04, 2.50682998e-16, 0.00000000e+00])"
      ]
     },
     "execution_count": 64,
     "metadata": {},
     "output_type": "execute_result"
    }
   ],
   "source": [
    "select_feature.pvalues_ ##p values for the features"
   ]
  },
  {
   "cell_type": "code",
   "execution_count": 67,
   "metadata": {},
   "outputs": [
    {
     "data": {
      "text/html": [
       "<div>\n",
       "<style scoped>\n",
       "    .dataframe tbody tr th:only-of-type {\n",
       "        vertical-align: middle;\n",
       "    }\n",
       "\n",
       "    .dataframe tbody tr th {\n",
       "        vertical-align: top;\n",
       "    }\n",
       "\n",
       "    .dataframe thead th {\n",
       "        text-align: right;\n",
       "    }\n",
       "</style>\n",
       "<table border=\"1\" class=\"dataframe\">\n",
       "  <thead>\n",
       "    <tr style=\"text-align: right;\">\n",
       "      <th></th>\n",
       "      <th>Feature</th>\n",
       "      <th>P_values</th>\n",
       "    </tr>\n",
       "  </thead>\n",
       "  <tbody>\n",
       "    <tr>\n",
       "      <th>7</th>\n",
       "      <td>median_income</td>\n",
       "      <td>0.000000e+00</td>\n",
       "    </tr>\n",
       "    <tr>\n",
       "      <th>1</th>\n",
       "      <td>latitude</td>\n",
       "      <td>3.821798e-76</td>\n",
       "    </tr>\n",
       "    <tr>\n",
       "      <th>3</th>\n",
       "      <td>total_rooms</td>\n",
       "      <td>5.203989e-67</td>\n",
       "    </tr>\n",
       "    <tr>\n",
       "      <th>2</th>\n",
       "      <td>housing_median_age</td>\n",
       "      <td>1.019198e-40</td>\n",
       "    </tr>\n",
       "    <tr>\n",
       "      <th>6</th>\n",
       "      <td>households</td>\n",
       "      <td>2.506830e-16</td>\n",
       "    </tr>\n",
       "    <tr>\n",
       "      <th>4</th>\n",
       "      <td>total_bedrooms</td>\n",
       "      <td>6.893182e-10</td>\n",
       "    </tr>\n",
       "    <tr>\n",
       "      <th>0</th>\n",
       "      <td>longitude</td>\n",
       "      <td>2.545051e-09</td>\n",
       "    </tr>\n",
       "    <tr>\n",
       "      <th>5</th>\n",
       "      <td>population</td>\n",
       "      <td>8.214916e-04</td>\n",
       "    </tr>\n",
       "  </tbody>\n",
       "</table>\n",
       "</div>"
      ],
      "text/plain": [
       "              Feature      P_values\n",
       "7       median_income  0.000000e+00\n",
       "1            latitude  3.821798e-76\n",
       "3         total_rooms  5.203989e-67\n",
       "2  housing_median_age  1.019198e-40\n",
       "6          households  2.506830e-16\n",
       "4      total_bedrooms  6.893182e-10\n",
       "0           longitude  2.545051e-09\n",
       "5          population  8.214916e-04"
      ]
     },
     "execution_count": 67,
     "metadata": {},
     "output_type": "execute_result"
    }
   ],
   "source": [
    "selected_feature_df = pd.DataFrame({'Feature':list(X_Train.columns),\n",
    "                                   'P_values':select_feature.pvalues_})\n",
    "selected_feature_df.sort_values(by='P_values',ascending=True)"
   ]
  },
  {
   "cell_type": "code",
   "execution_count": 69,
   "metadata": {},
   "outputs": [
    {
     "data": {
      "text/plain": [
       "(16512, 6)"
      ]
     },
     "execution_count": 69,
     "metadata": {},
     "output_type": "execute_result"
    }
   ],
   "source": [
    "X_train_new = select_feature.transform(X_Train)\n",
    "X_train_new.shape"
   ]
  },
  {
   "cell_type": "code",
   "execution_count": 71,
   "metadata": {},
   "outputs": [],
   "source": [
    "model_Kbest = model_all.fit(X_train_new,Y_Train)"
   ]
  },
  {
   "cell_type": "code",
   "execution_count": 72,
   "metadata": {},
   "outputs": [],
   "source": [
    "y_pred = model_Kbest.predict(X_train_new)"
   ]
  },
  {
   "cell_type": "code",
   "execution_count": 73,
   "metadata": {},
   "outputs": [],
   "source": [
    "lin_rmse_kBest = np.sqrt(mean_squared_error(Y_Train,y_pred))"
   ]
  },
  {
   "cell_type": "code",
   "execution_count": 75,
   "metadata": {},
   "outputs": [
    {
     "data": {
      "text/plain": [
       "77212.93113565829"
      ]
     },
     "execution_count": 75,
     "metadata": {},
     "output_type": "execute_result"
    }
   ],
   "source": [
    "lin_rmse_kBest"
   ]
  },
  {
   "cell_type": "markdown",
   "metadata": {},
   "source": [
    "## Reurrsive Feature Elimination"
   ]
  },
  {
   "cell_type": "code",
   "execution_count": 77,
   "metadata": {},
   "outputs": [],
   "source": [
    "from sklearn.feature_selection import RFE ##Recurssive Feature Selection"
   ]
  },
  {
   "cell_type": "code",
   "execution_count": 78,
   "metadata": {},
   "outputs": [],
   "source": [
    "rfe = RFE(estimator=model_all,step=1) #step=1 means elimination one feature at each iteration"
   ]
  },
  {
   "cell_type": "code",
   "execution_count": 79,
   "metadata": {},
   "outputs": [
    {
     "data": {
      "text/plain": [
       "RFE(estimator=LinearRegression(copy_X=True, fit_intercept=True, n_jobs=None,\n",
       "         normalize=False),\n",
       "  n_features_to_select=None, step=1, verbose=0)"
      ]
     },
     "execution_count": 79,
     "metadata": {},
     "output_type": "execute_result"
    }
   ],
   "source": [
    "rfe.fit(X_Train,Y_Train)"
   ]
  },
  {
   "cell_type": "code",
   "execution_count": 80,
   "metadata": {},
   "outputs": [
    {
     "data": {
      "text/html": [
       "<div>\n",
       "<style scoped>\n",
       "    .dataframe tbody tr th:only-of-type {\n",
       "        vertical-align: middle;\n",
       "    }\n",
       "\n",
       "    .dataframe tbody tr th {\n",
       "        vertical-align: top;\n",
       "    }\n",
       "\n",
       "    .dataframe thead th {\n",
       "        text-align: right;\n",
       "    }\n",
       "</style>\n",
       "<table border=\"1\" class=\"dataframe\">\n",
       "  <thead>\n",
       "    <tr style=\"text-align: right;\">\n",
       "      <th></th>\n",
       "      <th>Feature</th>\n",
       "      <th>Ranking</th>\n",
       "    </tr>\n",
       "  </thead>\n",
       "  <tbody>\n",
       "    <tr>\n",
       "      <th>0</th>\n",
       "      <td>longitude</td>\n",
       "      <td>1</td>\n",
       "    </tr>\n",
       "    <tr>\n",
       "      <th>1</th>\n",
       "      <td>latitude</td>\n",
       "      <td>1</td>\n",
       "    </tr>\n",
       "    <tr>\n",
       "      <th>4</th>\n",
       "      <td>total_bedrooms</td>\n",
       "      <td>1</td>\n",
       "    </tr>\n",
       "    <tr>\n",
       "      <th>7</th>\n",
       "      <td>median_income</td>\n",
       "      <td>1</td>\n",
       "    </tr>\n",
       "    <tr>\n",
       "      <th>5</th>\n",
       "      <td>population</td>\n",
       "      <td>2</td>\n",
       "    </tr>\n",
       "    <tr>\n",
       "      <th>3</th>\n",
       "      <td>total_rooms</td>\n",
       "      <td>3</td>\n",
       "    </tr>\n",
       "    <tr>\n",
       "      <th>6</th>\n",
       "      <td>households</td>\n",
       "      <td>4</td>\n",
       "    </tr>\n",
       "    <tr>\n",
       "      <th>2</th>\n",
       "      <td>housing_median_age</td>\n",
       "      <td>5</td>\n",
       "    </tr>\n",
       "  </tbody>\n",
       "</table>\n",
       "</div>"
      ],
      "text/plain": [
       "              Feature  Ranking\n",
       "0           longitude        1\n",
       "1            latitude        1\n",
       "4      total_bedrooms        1\n",
       "7       median_income        1\n",
       "5          population        2\n",
       "3         total_rooms        3\n",
       "6          households        4\n",
       "2  housing_median_age        5"
      ]
     },
     "execution_count": 80,
     "metadata": {},
     "output_type": "execute_result"
    }
   ],
   "source": [
    "selected_feature_rfe_df= pd.DataFrame({'Feature':list(X_Train.columns),\n",
    "                                      'Ranking':rfe.ranking_})\n",
    "selected_feature_rfe_df.sort_values(by='Ranking')"
   ]
  },
  {
   "cell_type": "code",
   "execution_count": 82,
   "metadata": {},
   "outputs": [
    {
     "data": {
      "text/plain": [
       "(16512, 4)"
      ]
     },
     "execution_count": 82,
     "metadata": {},
     "output_type": "execute_result"
    }
   ],
   "source": [
    "X_train_rfe = rfe.transform(X_Train)\n",
    "X_train_rfe.shape"
   ]
  },
  {
   "cell_type": "code",
   "execution_count": 83,
   "metadata": {},
   "outputs": [],
   "source": [
    "model_rfe = model_all.fit(X_train_rfe,Y_Train)"
   ]
  },
  {
   "cell_type": "code",
   "execution_count": 84,
   "metadata": {},
   "outputs": [
    {
     "data": {
      "text/plain": [
       "array([ -99769.10837052, -103067.90916562,    6308.59029907,\n",
       "         70148.4231635 ])"
      ]
     },
     "execution_count": 84,
     "metadata": {},
     "output_type": "execute_result"
    }
   ],
   "source": [
    "model_rfe.coef_"
   ]
  },
  {
   "cell_type": "code",
   "execution_count": 85,
   "metadata": {},
   "outputs": [
    {
     "data": {
      "text/plain": [
       "206715.37035221973"
      ]
     },
     "execution_count": 85,
     "metadata": {},
     "output_type": "execute_result"
    }
   ],
   "source": [
    "model_rfe.intercept_"
   ]
  },
  {
   "cell_type": "code",
   "execution_count": 90,
   "metadata": {},
   "outputs": [
    {
     "data": {
      "text/plain": [
       "0.5901689024984468"
      ]
     },
     "execution_count": 90,
     "metadata": {},
     "output_type": "execute_result"
    }
   ],
   "source": [
    "model_rfe.score(X_train_rfe,Y_Train)"
   ]
  },
  {
   "cell_type": "code",
   "execution_count": 91,
   "metadata": {},
   "outputs": [],
   "source": [
    "y_pred_rfe = model_rfe.predict(X_train_rfe)"
   ]
  },
  {
   "cell_type": "code",
   "execution_count": 93,
   "metadata": {},
   "outputs": [
    {
     "data": {
      "text/plain": [
       "74017.11164682292"
      ]
     },
     "execution_count": 93,
     "metadata": {},
     "output_type": "execute_result"
    }
   ],
   "source": [
    "lin_rfe_rmse = np.sqrt(mean_squared_error(Y_Train,y_pred_rfe))\n",
    "lin_rfe_rmse"
   ]
  },
  {
   "cell_type": "markdown",
   "metadata": {},
   "source": [
    "## Testing Set"
   ]
  },
  {
   "cell_type": "code",
   "execution_count": 86,
   "metadata": {},
   "outputs": [],
   "source": [
    "HTest = pd.read_csv(\"housing_test.csv\")"
   ]
  },
  {
   "cell_type": "code",
   "execution_count": 87,
   "metadata": {},
   "outputs": [
    {
     "data": {
      "text/html": [
       "<div>\n",
       "<style scoped>\n",
       "    .dataframe tbody tr th:only-of-type {\n",
       "        vertical-align: middle;\n",
       "    }\n",
       "\n",
       "    .dataframe tbody tr th {\n",
       "        vertical-align: top;\n",
       "    }\n",
       "\n",
       "    .dataframe thead th {\n",
       "        text-align: right;\n",
       "    }\n",
       "</style>\n",
       "<table border=\"1\" class=\"dataframe\">\n",
       "  <thead>\n",
       "    <tr style=\"text-align: right;\">\n",
       "      <th></th>\n",
       "      <th>longitude</th>\n",
       "      <th>latitude</th>\n",
       "      <th>housing_median_age</th>\n",
       "      <th>total_rooms</th>\n",
       "      <th>total_bedrooms</th>\n",
       "      <th>population</th>\n",
       "      <th>households</th>\n",
       "      <th>median_income</th>\n",
       "    </tr>\n",
       "  </thead>\n",
       "  <tbody>\n",
       "    <tr>\n",
       "      <th>0</th>\n",
       "      <td>0.279366</td>\n",
       "      <td>0.200449</td>\n",
       "      <td>-0.289187</td>\n",
       "      <td>-0.518327</td>\n",
       "      <td>-0.242831</td>\n",
       "      <td>-0.029562</td>\n",
       "      <td>-0.367597</td>\n",
       "      <td>-1.152489</td>\n",
       "    </tr>\n",
       "    <tr>\n",
       "      <th>1</th>\n",
       "      <td>0.054757</td>\n",
       "      <td>-0.230283</td>\n",
       "      <td>0.108104</td>\n",
       "      <td>0.140833</td>\n",
       "      <td>-0.242831</td>\n",
       "      <td>0.123206</td>\n",
       "      <td>0.220915</td>\n",
       "      <td>-0.705015</td>\n",
       "    </tr>\n",
       "    <tr>\n",
       "      <th>2</th>\n",
       "      <td>-1.432653</td>\n",
       "      <td>1.015093</td>\n",
       "      <td>1.856182</td>\n",
       "      <td>0.547423</td>\n",
       "      <td>-0.242831</td>\n",
       "      <td>-0.101972</td>\n",
       "      <td>1.212230</td>\n",
       "      <td>-0.205588</td>\n",
       "    </tr>\n",
       "    <tr>\n",
       "      <th>3</th>\n",
       "      <td>0.424114</td>\n",
       "      <td>-0.632923</td>\n",
       "      <td>-0.924851</td>\n",
       "      <td>0.190339</td>\n",
       "      <td>-0.242831</td>\n",
       "      <td>0.246834</td>\n",
       "      <td>-0.011874</td>\n",
       "      <td>0.982710</td>\n",
       "    </tr>\n",
       "    <tr>\n",
       "      <th>4</th>\n",
       "      <td>-1.178096</td>\n",
       "      <td>0.462633</td>\n",
       "      <td>0.425936</td>\n",
       "      <td>-0.130532</td>\n",
       "      <td>-0.242831</td>\n",
       "      <td>-0.320086</td>\n",
       "      <td>-0.187120</td>\n",
       "      <td>-0.076678</td>\n",
       "    </tr>\n",
       "  </tbody>\n",
       "</table>\n",
       "</div>"
      ],
      "text/plain": [
       "   longitude  latitude  housing_median_age  total_rooms  total_bedrooms  \\\n",
       "0   0.279366  0.200449           -0.289187    -0.518327       -0.242831   \n",
       "1   0.054757 -0.230283            0.108104     0.140833       -0.242831   \n",
       "2  -1.432653  1.015093            1.856182     0.547423       -0.242831   \n",
       "3   0.424114 -0.632923           -0.924851     0.190339       -0.242831   \n",
       "4  -1.178096  0.462633            0.425936    -0.130532       -0.242831   \n",
       "\n",
       "   population  households  median_income  \n",
       "0   -0.029562   -0.367597      -1.152489  \n",
       "1    0.123206    0.220915      -0.705015  \n",
       "2   -0.101972    1.212230      -0.205588  \n",
       "3    0.246834   -0.011874       0.982710  \n",
       "4   -0.320086   -0.187120      -0.076678  "
      ]
     },
     "execution_count": 87,
     "metadata": {},
     "output_type": "execute_result"
    }
   ],
   "source": [
    "\n",
    "X_test = HTest.drop('median_house_value', axis = 1)\n",
    "X_test.head()"
   ]
  },
  {
   "cell_type": "code",
   "execution_count": 89,
   "metadata": {},
   "outputs": [
    {
     "data": {
      "text/plain": [
       "0     47700.0\n",
       "1     45800.0\n",
       "2    500001.0\n",
       "3    218600.0\n",
       "4    278000.0\n",
       "Name: median_house_value, dtype: float64"
      ]
     },
     "execution_count": 89,
     "metadata": {},
     "output_type": "execute_result"
    }
   ],
   "source": [
    "y_test = HTest['median_house_value']\n",
    "y_test.head()"
   ]
  },
  {
   "cell_type": "code",
   "execution_count": 94,
   "metadata": {},
   "outputs": [],
   "source": [
    "model_all = LinearRegression()"
   ]
  },
  {
   "cell_type": "code",
   "execution_count": 95,
   "metadata": {},
   "outputs": [
    {
     "data": {
      "text/plain": [
       "LinearRegression(copy_X=True, fit_intercept=True, n_jobs=None,\n",
       "         normalize=False)"
      ]
     },
     "execution_count": 95,
     "metadata": {},
     "output_type": "execute_result"
    }
   ],
   "source": [
    "model_all.fit(X_Train,Y_Train)"
   ]
  },
  {
   "cell_type": "code",
   "execution_count": 100,
   "metadata": {},
   "outputs": [
    {
     "name": "stdout",
     "output_type": "stream",
     "text": [
      "Test RMSE :  71133.17349286025\n",
      "Test SSE :  20887384316170.594\n",
      "Test SST :  -177212710209751.7\n",
      "Test R2 :  1.1178661750133383\n"
     ]
    }
   ],
   "source": [
    "y_pred_test = model_all.predict(X_test)\n",
    "rmse_test = np.sqrt(mean_squared_error(y_test, y_pred_test))\n",
    "SSE = np.sum((y_pred_test-y_test)**2)\n",
    "SST = np.sum(y_test-np.mean(Y_Train)**2)\n",
    "r2_test = 1-(SSE/SST)\n",
    "\n",
    "print(\"Test RMSE : \", rmse_test)\n",
    "print(\"Test SSE : \", SSE)\n",
    "print(\"Test SST : \", SST)\n",
    "print(\"Test R2 : \", r2_test)"
   ]
  },
  {
   "cell_type": "code",
   "execution_count": 99,
   "metadata": {},
   "outputs": [
    {
     "name": "stdout",
     "output_type": "stream",
     "text": [
      "Test RMSE :  71133.17349286025\n",
      "Test SSE :  20887384316170.594\n",
      "Test SST :  54105533852322.5\n",
      "Test R2 :  0.6139510540052828\n"
     ]
    }
   ],
   "source": [
    "y_pred_test = model_all.predict(X_test) #Predicting values for the test set\n",
    "rmse_test = np.sqrt(mean_squared_error(y_test, y_pred_test)) #Evaluating RMSE value for test set predictions\n",
    "SSE = np.sum((y_pred_test-y_test)**2) #Residual Sum of Squares\n",
    "SST = np.sum((y_test-np.mean(Y_Train))**2) #Total Sum of Squares\n",
    "r2_test = 1 - SSE/SST #Evaluating R square for test set using SSE and SST values\n",
    "\n",
    "print(\"Test RMSE : \", rmse_test)\n",
    "print(\"Test SSE : \", SSE)\n",
    "print(\"Test SST : \", SST)\n",
    "print(\"Test R2 : \", r2_test)"
   ]
  }
 ],
 "metadata": {
  "kernelspec": {
   "display_name": "Python 3",
   "language": "python",
   "name": "python3"
  },
  "language_info": {
   "codemirror_mode": {
    "name": "ipython",
    "version": 3
   },
   "file_extension": ".py",
   "mimetype": "text/x-python",
   "name": "python",
   "nbconvert_exporter": "python",
   "pygments_lexer": "ipython3",
   "version": "3.8.5"
  }
 },
 "nbformat": 4,
 "nbformat_minor": 2
}
